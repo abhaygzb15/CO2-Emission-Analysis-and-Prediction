{
 "cells": [
  {
   "cell_type": "code",
   "execution_count": 1,
   "id": "8c76d423",
   "metadata": {},
   "outputs": [],
   "source": [
    "# Import all necessary libraries required for data analysis\n",
    "import pandas as pd\n",
    "import numpy as np\n",
    "import matplotlib.pyplot as plt\n",
    "import seaborn as sns"
   ]
  },
  {
   "cell_type": "code",
   "execution_count": 2,
   "id": "e0013832",
   "metadata": {},
   "outputs": [
    {
     "data": {
      "text/html": [
       "<div>\n",
       "<style scoped>\n",
       "    .dataframe tbody tr th:only-of-type {\n",
       "        vertical-align: middle;\n",
       "    }\n",
       "\n",
       "    .dataframe tbody tr th {\n",
       "        vertical-align: top;\n",
       "    }\n",
       "\n",
       "    .dataframe thead th {\n",
       "        text-align: right;\n",
       "    }\n",
       "</style>\n",
       "<table border=\"1\" class=\"dataframe\">\n",
       "  <thead>\n",
       "    <tr style=\"text-align: right;\">\n",
       "      <th></th>\n",
       "      <th>Entity</th>\n",
       "      <th>Code</th>\n",
       "      <th>Year</th>\n",
       "      <th>Annual CO2 emissions (tonnes )</th>\n",
       "    </tr>\n",
       "  </thead>\n",
       "  <tbody>\n",
       "    <tr>\n",
       "      <th>0</th>\n",
       "      <td>Afghanistan</td>\n",
       "      <td>AFG</td>\n",
       "      <td>1949</td>\n",
       "      <td>14656.00</td>\n",
       "    </tr>\n",
       "    <tr>\n",
       "      <th>1</th>\n",
       "      <td>Afghanistan</td>\n",
       "      <td>AFG</td>\n",
       "      <td>1950</td>\n",
       "      <td>84272.00</td>\n",
       "    </tr>\n",
       "    <tr>\n",
       "      <th>2</th>\n",
       "      <td>Afghanistan</td>\n",
       "      <td>AFG</td>\n",
       "      <td>1951</td>\n",
       "      <td>91600.00</td>\n",
       "    </tr>\n",
       "    <tr>\n",
       "      <th>3</th>\n",
       "      <td>Afghanistan</td>\n",
       "      <td>AFG</td>\n",
       "      <td>1952</td>\n",
       "      <td>91600.00</td>\n",
       "    </tr>\n",
       "    <tr>\n",
       "      <th>4</th>\n",
       "      <td>Afghanistan</td>\n",
       "      <td>AFG</td>\n",
       "      <td>1953</td>\n",
       "      <td>106256.00</td>\n",
       "    </tr>\n",
       "    <tr>\n",
       "      <th>...</th>\n",
       "      <td>...</td>\n",
       "      <td>...</td>\n",
       "      <td>...</td>\n",
       "      <td>...</td>\n",
       "    </tr>\n",
       "    <tr>\n",
       "      <th>20848</th>\n",
       "      <td>Zimbabwe</td>\n",
       "      <td>ZWE</td>\n",
       "      <td>2013</td>\n",
       "      <td>11536239.29</td>\n",
       "    </tr>\n",
       "    <tr>\n",
       "      <th>20849</th>\n",
       "      <td>Zimbabwe</td>\n",
       "      <td>ZWE</td>\n",
       "      <td>2014</td>\n",
       "      <td>11866348.41</td>\n",
       "    </tr>\n",
       "    <tr>\n",
       "      <th>20850</th>\n",
       "      <td>Zimbabwe</td>\n",
       "      <td>ZWE</td>\n",
       "      <td>2015</td>\n",
       "      <td>10907603.94</td>\n",
       "    </tr>\n",
       "    <tr>\n",
       "      <th>20851</th>\n",
       "      <td>Zimbabwe</td>\n",
       "      <td>ZWE</td>\n",
       "      <td>2016</td>\n",
       "      <td>9932649.88</td>\n",
       "    </tr>\n",
       "    <tr>\n",
       "      <th>20852</th>\n",
       "      <td>Zimbabwe</td>\n",
       "      <td>ZWE</td>\n",
       "      <td>2017</td>\n",
       "      <td>10397718.47</td>\n",
       "    </tr>\n",
       "  </tbody>\n",
       "</table>\n",
       "<p>20853 rows × 4 columns</p>\n",
       "</div>"
      ],
      "text/plain": [
       "            Entity Code  Year  Annual CO2 emissions (tonnes )\n",
       "0      Afghanistan  AFG  1949                        14656.00\n",
       "1      Afghanistan  AFG  1950                        84272.00\n",
       "2      Afghanistan  AFG  1951                        91600.00\n",
       "3      Afghanistan  AFG  1952                        91600.00\n",
       "4      Afghanistan  AFG  1953                       106256.00\n",
       "...            ...  ...   ...                             ...\n",
       "20848     Zimbabwe  ZWE  2013                     11536239.29\n",
       "20849     Zimbabwe  ZWE  2014                     11866348.41\n",
       "20850     Zimbabwe  ZWE  2015                     10907603.94\n",
       "20851     Zimbabwe  ZWE  2016                      9932649.88\n",
       "20852     Zimbabwe  ZWE  2017                     10397718.47\n",
       "\n",
       "[20853 rows x 4 columns]"
      ]
     },
     "execution_count": 2,
     "metadata": {},
     "output_type": "execute_result"
    }
   ],
   "source": [
    "# Read dataset\n",
    "df=pd.read_csv('data_emission.csv')\n",
    "df"
   ]
  },
  {
   "cell_type": "code",
   "execution_count": 3,
   "id": "cf2af926",
   "metadata": {},
   "outputs": [
    {
     "data": {
      "text/html": [
       "<div>\n",
       "<style scoped>\n",
       "    .dataframe tbody tr th:only-of-type {\n",
       "        vertical-align: middle;\n",
       "    }\n",
       "\n",
       "    .dataframe tbody tr th {\n",
       "        vertical-align: top;\n",
       "    }\n",
       "\n",
       "    .dataframe thead th {\n",
       "        text-align: right;\n",
       "    }\n",
       "</style>\n",
       "<table border=\"1\" class=\"dataframe\">\n",
       "  <thead>\n",
       "    <tr style=\"text-align: right;\">\n",
       "      <th></th>\n",
       "      <th>Entity</th>\n",
       "      <th>Code</th>\n",
       "      <th>Year</th>\n",
       "      <th>Annual CO2 emissions (tonnes )</th>\n",
       "    </tr>\n",
       "  </thead>\n",
       "  <tbody>\n",
       "    <tr>\n",
       "      <th>0</th>\n",
       "      <td>Afghanistan</td>\n",
       "      <td>AFG</td>\n",
       "      <td>1949</td>\n",
       "      <td>14656.0</td>\n",
       "    </tr>\n",
       "    <tr>\n",
       "      <th>1</th>\n",
       "      <td>Afghanistan</td>\n",
       "      <td>AFG</td>\n",
       "      <td>1950</td>\n",
       "      <td>84272.0</td>\n",
       "    </tr>\n",
       "    <tr>\n",
       "      <th>2</th>\n",
       "      <td>Afghanistan</td>\n",
       "      <td>AFG</td>\n",
       "      <td>1951</td>\n",
       "      <td>91600.0</td>\n",
       "    </tr>\n",
       "    <tr>\n",
       "      <th>3</th>\n",
       "      <td>Afghanistan</td>\n",
       "      <td>AFG</td>\n",
       "      <td>1952</td>\n",
       "      <td>91600.0</td>\n",
       "    </tr>\n",
       "    <tr>\n",
       "      <th>4</th>\n",
       "      <td>Afghanistan</td>\n",
       "      <td>AFG</td>\n",
       "      <td>1953</td>\n",
       "      <td>106256.0</td>\n",
       "    </tr>\n",
       "  </tbody>\n",
       "</table>\n",
       "</div>"
      ],
      "text/plain": [
       "        Entity Code  Year  Annual CO2 emissions (tonnes )\n",
       "0  Afghanistan  AFG  1949                         14656.0\n",
       "1  Afghanistan  AFG  1950                         84272.0\n",
       "2  Afghanistan  AFG  1951                         91600.0\n",
       "3  Afghanistan  AFG  1952                         91600.0\n",
       "4  Afghanistan  AFG  1953                        106256.0"
      ]
     },
     "execution_count": 3,
     "metadata": {},
     "output_type": "execute_result"
    }
   ],
   "source": [
    "df.head()"
   ]
  },
  {
   "cell_type": "markdown",
   "id": "cde91864",
   "metadata": {},
   "source": [
    "# Understanding Dataset"
   ]
  },
  {
   "cell_type": "code",
   "execution_count": 4,
   "id": "d7bccd19",
   "metadata": {},
   "outputs": [
    {
     "data": {
      "text/plain": [
       "(20853, 4)"
      ]
     },
     "execution_count": 4,
     "metadata": {},
     "output_type": "execute_result"
    }
   ],
   "source": [
    "df.shape"
   ]
  },
  {
   "cell_type": "code",
   "execution_count": 6,
   "id": "0611477a",
   "metadata": {},
   "outputs": [
    {
     "data": {
      "text/plain": [
       "Entity\n",
       "Statistical differences      267\n",
       "Asia and Pacific (other)     267\n",
       "EU-28                        267\n",
       "Europe (other)               267\n",
       "Americas (other)             267\n",
       "                            ... \n",
       "Antarctic Fisheries           21\n",
       "Wallis and Futuna Islands     17\n",
       "Timor                         16\n",
       "Christmas Island              14\n",
       "Liechtenstein                 11\n",
       "Name: count, Length: 233, dtype: int64"
      ]
     },
     "execution_count": 6,
     "metadata": {},
     "output_type": "execute_result"
    }
   ],
   "source": [
    "df['Entity'].value_counts()"
   ]
  },
  {
   "cell_type": "code",
   "execution_count": 7,
   "id": "c55364eb",
   "metadata": {},
   "outputs": [
    {
     "data": {
      "text/plain": [
       "Year\n",
       "2007    230\n",
       "2002    229\n",
       "2010    229\n",
       "2003    229\n",
       "2004    229\n",
       "       ... \n",
       "1775     13\n",
       "1774     13\n",
       "1773     13\n",
       "1772     13\n",
       "1752     13\n",
       "Name: count, Length: 267, dtype: int64"
      ]
     },
     "execution_count": 7,
     "metadata": {},
     "output_type": "execute_result"
    }
   ],
   "source": [
    "df['Year'].value_counts()"
   ]
  },
  {
   "cell_type": "code",
   "execution_count": 9,
   "id": "312328fc",
   "metadata": {},
   "outputs": [
    {
     "data": {
      "text/plain": [
       "Entity                              233\n",
       "Code                                222\n",
       "Year                                267\n",
       "Annual CO2 emissions (tonnes )    13092\n",
       "dtype: int64"
      ]
     },
     "execution_count": 9,
     "metadata": {},
     "output_type": "execute_result"
    }
   ],
   "source": [
    "df.nunique()"
   ]
  },
  {
   "cell_type": "code",
   "execution_count": 10,
   "id": "e89beb40",
   "metadata": {},
   "outputs": [
    {
     "data": {
      "text/plain": [
       "Entity                               0\n",
       "Code                              2207\n",
       "Year                                 0\n",
       "Annual CO2 emissions (tonnes )       0\n",
       "dtype: int64"
      ]
     },
     "execution_count": 10,
     "metadata": {},
     "output_type": "execute_result"
    }
   ],
   "source": [
    "df.isnull().sum()"
   ]
  },
  {
   "cell_type": "code",
   "execution_count": 11,
   "id": "d5cfa0db",
   "metadata": {},
   "outputs": [
    {
     "name": "stdout",
     "output_type": "stream",
     "text": [
      "<class 'pandas.core.frame.DataFrame'>\n",
      "RangeIndex: 20853 entries, 0 to 20852\n",
      "Data columns (total 4 columns):\n",
      " #   Column                          Non-Null Count  Dtype  \n",
      "---  ------                          --------------  -----  \n",
      " 0   Entity                          20853 non-null  object \n",
      " 1   Code                            18646 non-null  object \n",
      " 2   Year                            20853 non-null  int64  \n",
      " 3   Annual CO2 emissions (tonnes )  20853 non-null  float64\n",
      "dtypes: float64(1), int64(1), object(2)\n",
      "memory usage: 651.8+ KB\n"
     ]
    }
   ],
   "source": [
    "df.info()"
   ]
  },
  {
   "cell_type": "code",
   "execution_count": 12,
   "id": "100ca90d",
   "metadata": {},
   "outputs": [],
   "source": [
    "df.drop('Code',axis='columns',inplace=True)"
   ]
  },
  {
   "cell_type": "code",
   "execution_count": 13,
   "id": "454c0378",
   "metadata": {},
   "outputs": [
    {
     "data": {
      "text/html": [
       "<div>\n",
       "<style scoped>\n",
       "    .dataframe tbody tr th:only-of-type {\n",
       "        vertical-align: middle;\n",
       "    }\n",
       "\n",
       "    .dataframe tbody tr th {\n",
       "        vertical-align: top;\n",
       "    }\n",
       "\n",
       "    .dataframe thead th {\n",
       "        text-align: right;\n",
       "    }\n",
       "</style>\n",
       "<table border=\"1\" class=\"dataframe\">\n",
       "  <thead>\n",
       "    <tr style=\"text-align: right;\">\n",
       "      <th></th>\n",
       "      <th>Entity</th>\n",
       "      <th>Year</th>\n",
       "      <th>Annual CO2 emissions (tonnes )</th>\n",
       "    </tr>\n",
       "  </thead>\n",
       "  <tbody>\n",
       "    <tr>\n",
       "      <th>0</th>\n",
       "      <td>Afghanistan</td>\n",
       "      <td>1949</td>\n",
       "      <td>14656.00</td>\n",
       "    </tr>\n",
       "    <tr>\n",
       "      <th>1</th>\n",
       "      <td>Afghanistan</td>\n",
       "      <td>1950</td>\n",
       "      <td>84272.00</td>\n",
       "    </tr>\n",
       "    <tr>\n",
       "      <th>2</th>\n",
       "      <td>Afghanistan</td>\n",
       "      <td>1951</td>\n",
       "      <td>91600.00</td>\n",
       "    </tr>\n",
       "    <tr>\n",
       "      <th>3</th>\n",
       "      <td>Afghanistan</td>\n",
       "      <td>1952</td>\n",
       "      <td>91600.00</td>\n",
       "    </tr>\n",
       "    <tr>\n",
       "      <th>4</th>\n",
       "      <td>Afghanistan</td>\n",
       "      <td>1953</td>\n",
       "      <td>106256.00</td>\n",
       "    </tr>\n",
       "    <tr>\n",
       "      <th>...</th>\n",
       "      <td>...</td>\n",
       "      <td>...</td>\n",
       "      <td>...</td>\n",
       "    </tr>\n",
       "    <tr>\n",
       "      <th>20848</th>\n",
       "      <td>Zimbabwe</td>\n",
       "      <td>2013</td>\n",
       "      <td>11536239.29</td>\n",
       "    </tr>\n",
       "    <tr>\n",
       "      <th>20849</th>\n",
       "      <td>Zimbabwe</td>\n",
       "      <td>2014</td>\n",
       "      <td>11866348.41</td>\n",
       "    </tr>\n",
       "    <tr>\n",
       "      <th>20850</th>\n",
       "      <td>Zimbabwe</td>\n",
       "      <td>2015</td>\n",
       "      <td>10907603.94</td>\n",
       "    </tr>\n",
       "    <tr>\n",
       "      <th>20851</th>\n",
       "      <td>Zimbabwe</td>\n",
       "      <td>2016</td>\n",
       "      <td>9932649.88</td>\n",
       "    </tr>\n",
       "    <tr>\n",
       "      <th>20852</th>\n",
       "      <td>Zimbabwe</td>\n",
       "      <td>2017</td>\n",
       "      <td>10397718.47</td>\n",
       "    </tr>\n",
       "  </tbody>\n",
       "</table>\n",
       "<p>20853 rows × 3 columns</p>\n",
       "</div>"
      ],
      "text/plain": [
       "            Entity  Year  Annual CO2 emissions (tonnes )\n",
       "0      Afghanistan  1949                        14656.00\n",
       "1      Afghanistan  1950                        84272.00\n",
       "2      Afghanistan  1951                        91600.00\n",
       "3      Afghanistan  1952                        91600.00\n",
       "4      Afghanistan  1953                       106256.00\n",
       "...            ...   ...                             ...\n",
       "20848     Zimbabwe  2013                     11536239.29\n",
       "20849     Zimbabwe  2014                     11866348.41\n",
       "20850     Zimbabwe  2015                     10907603.94\n",
       "20851     Zimbabwe  2016                      9932649.88\n",
       "20852     Zimbabwe  2017                     10397718.47\n",
       "\n",
       "[20853 rows x 3 columns]"
      ]
     },
     "execution_count": 13,
     "metadata": {},
     "output_type": "execute_result"
    }
   ],
   "source": [
    "df"
   ]
  },
  {
   "cell_type": "code",
   "execution_count": 14,
   "id": "264acdb9",
   "metadata": {},
   "outputs": [
    {
     "data": {
      "text/html": [
       "<div>\n",
       "<style scoped>\n",
       "    .dataframe tbody tr th:only-of-type {\n",
       "        vertical-align: middle;\n",
       "    }\n",
       "\n",
       "    .dataframe tbody tr th {\n",
       "        vertical-align: top;\n",
       "    }\n",
       "\n",
       "    .dataframe thead th {\n",
       "        text-align: right;\n",
       "    }\n",
       "</style>\n",
       "<table border=\"1\" class=\"dataframe\">\n",
       "  <thead>\n",
       "    <tr style=\"text-align: right;\">\n",
       "      <th></th>\n",
       "      <th>Country</th>\n",
       "      <th>Year</th>\n",
       "      <th>Emission(tones)</th>\n",
       "    </tr>\n",
       "  </thead>\n",
       "  <tbody>\n",
       "    <tr>\n",
       "      <th>0</th>\n",
       "      <td>Afghanistan</td>\n",
       "      <td>1949</td>\n",
       "      <td>14656.00</td>\n",
       "    </tr>\n",
       "    <tr>\n",
       "      <th>1</th>\n",
       "      <td>Afghanistan</td>\n",
       "      <td>1950</td>\n",
       "      <td>84272.00</td>\n",
       "    </tr>\n",
       "    <tr>\n",
       "      <th>2</th>\n",
       "      <td>Afghanistan</td>\n",
       "      <td>1951</td>\n",
       "      <td>91600.00</td>\n",
       "    </tr>\n",
       "    <tr>\n",
       "      <th>3</th>\n",
       "      <td>Afghanistan</td>\n",
       "      <td>1952</td>\n",
       "      <td>91600.00</td>\n",
       "    </tr>\n",
       "    <tr>\n",
       "      <th>4</th>\n",
       "      <td>Afghanistan</td>\n",
       "      <td>1953</td>\n",
       "      <td>106256.00</td>\n",
       "    </tr>\n",
       "    <tr>\n",
       "      <th>...</th>\n",
       "      <td>...</td>\n",
       "      <td>...</td>\n",
       "      <td>...</td>\n",
       "    </tr>\n",
       "    <tr>\n",
       "      <th>20848</th>\n",
       "      <td>Zimbabwe</td>\n",
       "      <td>2013</td>\n",
       "      <td>11536239.29</td>\n",
       "    </tr>\n",
       "    <tr>\n",
       "      <th>20849</th>\n",
       "      <td>Zimbabwe</td>\n",
       "      <td>2014</td>\n",
       "      <td>11866348.41</td>\n",
       "    </tr>\n",
       "    <tr>\n",
       "      <th>20850</th>\n",
       "      <td>Zimbabwe</td>\n",
       "      <td>2015</td>\n",
       "      <td>10907603.94</td>\n",
       "    </tr>\n",
       "    <tr>\n",
       "      <th>20851</th>\n",
       "      <td>Zimbabwe</td>\n",
       "      <td>2016</td>\n",
       "      <td>9932649.88</td>\n",
       "    </tr>\n",
       "    <tr>\n",
       "      <th>20852</th>\n",
       "      <td>Zimbabwe</td>\n",
       "      <td>2017</td>\n",
       "      <td>10397718.47</td>\n",
       "    </tr>\n",
       "  </tbody>\n",
       "</table>\n",
       "<p>20853 rows × 3 columns</p>\n",
       "</div>"
      ],
      "text/plain": [
       "           Country  Year  Emission(tones)\n",
       "0      Afghanistan  1949         14656.00\n",
       "1      Afghanistan  1950         84272.00\n",
       "2      Afghanistan  1951         91600.00\n",
       "3      Afghanistan  1952         91600.00\n",
       "4      Afghanistan  1953        106256.00\n",
       "...            ...   ...              ...\n",
       "20848     Zimbabwe  2013      11536239.29\n",
       "20849     Zimbabwe  2014      11866348.41\n",
       "20850     Zimbabwe  2015      10907603.94\n",
       "20851     Zimbabwe  2016       9932649.88\n",
       "20852     Zimbabwe  2017      10397718.47\n",
       "\n",
       "[20853 rows x 3 columns]"
      ]
     },
     "execution_count": 14,
     "metadata": {},
     "output_type": "execute_result"
    }
   ],
   "source": [
    "df=df.rename(columns={'Entity':'Country','Annual CO2 emissions (tonnes )':'Emission(tones)'})\n",
    "df"
   ]
  },
  {
   "cell_type": "markdown",
   "id": "c80cd14d",
   "metadata": {},
   "source": [
    "# Analysis of Data"
   ]
  },
  {
   "cell_type": "code",
   "execution_count": 15,
   "id": "858d0b2b",
   "metadata": {},
   "outputs": [
    {
     "data": {
      "text/html": [
       "<div>\n",
       "<style scoped>\n",
       "    .dataframe tbody tr th:only-of-type {\n",
       "        vertical-align: middle;\n",
       "    }\n",
       "\n",
       "    .dataframe tbody tr th {\n",
       "        vertical-align: top;\n",
       "    }\n",
       "\n",
       "    .dataframe thead th {\n",
       "        text-align: right;\n",
       "    }\n",
       "</style>\n",
       "<table border=\"1\" class=\"dataframe\">\n",
       "  <thead>\n",
       "    <tr style=\"text-align: right;\">\n",
       "      <th></th>\n",
       "      <th>Country</th>\n",
       "      <th>Year</th>\n",
       "      <th>Emission(tones)</th>\n",
       "    </tr>\n",
       "  </thead>\n",
       "  <tbody>\n",
       "    <tr>\n",
       "      <th>0</th>\n",
       "      <td>Afghanistan</td>\n",
       "      <td>1949</td>\n",
       "      <td>14656.0</td>\n",
       "    </tr>\n",
       "    <tr>\n",
       "      <th>1</th>\n",
       "      <td>Afghanistan</td>\n",
       "      <td>1950</td>\n",
       "      <td>84272.0</td>\n",
       "    </tr>\n",
       "    <tr>\n",
       "      <th>2</th>\n",
       "      <td>Afghanistan</td>\n",
       "      <td>1951</td>\n",
       "      <td>91600.0</td>\n",
       "    </tr>\n",
       "    <tr>\n",
       "      <th>3</th>\n",
       "      <td>Afghanistan</td>\n",
       "      <td>1952</td>\n",
       "      <td>91600.0</td>\n",
       "    </tr>\n",
       "    <tr>\n",
       "      <th>4</th>\n",
       "      <td>Afghanistan</td>\n",
       "      <td>1953</td>\n",
       "      <td>106256.0</td>\n",
       "    </tr>\n",
       "  </tbody>\n",
       "</table>\n",
       "</div>"
      ],
      "text/plain": [
       "       Country  Year  Emission(tones)\n",
       "0  Afghanistan  1949          14656.0\n",
       "1  Afghanistan  1950          84272.0\n",
       "2  Afghanistan  1951          91600.0\n",
       "3  Afghanistan  1952          91600.0\n",
       "4  Afghanistan  1953         106256.0"
      ]
     },
     "execution_count": 15,
     "metadata": {},
     "output_type": "execute_result"
    }
   ],
   "source": [
    "df.head()"
   ]
  },
  {
   "cell_type": "code",
   "execution_count": 17,
   "id": "326902a2",
   "metadata": {},
   "outputs": [
    {
     "data": {
      "text/plain": [
       "1751"
      ]
     },
     "execution_count": 17,
     "metadata": {},
     "output_type": "execute_result"
    }
   ],
   "source": [
    "df.Year.min()"
   ]
  },
  {
   "cell_type": "code",
   "execution_count": 18,
   "id": "16952433",
   "metadata": {},
   "outputs": [
    {
     "data": {
      "text/plain": [
       "2017"
      ]
     },
     "execution_count": 18,
     "metadata": {},
     "output_type": "execute_result"
    }
   ],
   "source": [
    "df.Year.max()"
   ]
  },
  {
   "cell_type": "code",
   "execution_count": 29,
   "id": "10af9444",
   "metadata": {},
   "outputs": [
    {
     "name": "stdout",
     "output_type": "stream",
     "text": [
      "-625.52 Millions\n"
     ]
    }
   ],
   "source": [
    "print(round((df['Emission(tones)'].min())/1000000,2),\"Millions\")"
   ]
  },
  {
   "cell_type": "code",
   "execution_count": 30,
   "id": "071162d6",
   "metadata": {},
   "outputs": [
    {
     "name": "stdout",
     "output_type": "stream",
     "text": [
      "36153.26 Millions\n"
     ]
    }
   ],
   "source": [
    "print(round((df['Emission(tones)'].max())/1000000,2),\"Millions\")"
   ]
  },
  {
   "cell_type": "code",
   "execution_count": 33,
   "id": "928e0ff0",
   "metadata": {},
   "outputs": [
    {
     "data": {
      "text/html": [
       "<div>\n",
       "<style scoped>\n",
       "    .dataframe tbody tr th:only-of-type {\n",
       "        vertical-align: middle;\n",
       "    }\n",
       "\n",
       "    .dataframe tbody tr th {\n",
       "        vertical-align: top;\n",
       "    }\n",
       "\n",
       "    .dataframe thead th {\n",
       "        text-align: right;\n",
       "    }\n",
       "</style>\n",
       "<table border=\"1\" class=\"dataframe\">\n",
       "  <thead>\n",
       "    <tr style=\"text-align: right;\">\n",
       "      <th></th>\n",
       "      <th>Country</th>\n",
       "      <th>Year</th>\n",
       "      <th>Emission(tones)</th>\n",
       "    </tr>\n",
       "  </thead>\n",
       "  <tbody>\n",
       "    <tr>\n",
       "      <th>17598</th>\n",
       "      <td>Statistical differences</td>\n",
       "      <td>1971</td>\n",
       "      <td>-2.937795e+07</td>\n",
       "    </tr>\n",
       "    <tr>\n",
       "      <th>17599</th>\n",
       "      <td>Statistical differences</td>\n",
       "      <td>1972</td>\n",
       "      <td>-1.327650e+08</td>\n",
       "    </tr>\n",
       "    <tr>\n",
       "      <th>17600</th>\n",
       "      <td>Statistical differences</td>\n",
       "      <td>1973</td>\n",
       "      <td>-1.219746e+08</td>\n",
       "    </tr>\n",
       "    <tr>\n",
       "      <th>17601</th>\n",
       "      <td>Statistical differences</td>\n",
       "      <td>1974</td>\n",
       "      <td>-1.784734e+07</td>\n",
       "    </tr>\n",
       "    <tr>\n",
       "      <th>17602</th>\n",
       "      <td>Statistical differences</td>\n",
       "      <td>1975</td>\n",
       "      <td>-9.373611e+07</td>\n",
       "    </tr>\n",
       "    <tr>\n",
       "      <th>17603</th>\n",
       "      <td>Statistical differences</td>\n",
       "      <td>1976</td>\n",
       "      <td>-1.300720e+07</td>\n",
       "    </tr>\n",
       "    <tr>\n",
       "      <th>17605</th>\n",
       "      <td>Statistical differences</td>\n",
       "      <td>1978</td>\n",
       "      <td>-4.183775e+08</td>\n",
       "    </tr>\n",
       "    <tr>\n",
       "      <th>17607</th>\n",
       "      <td>Statistical differences</td>\n",
       "      <td>1980</td>\n",
       "      <td>-9.108704e+06</td>\n",
       "    </tr>\n",
       "    <tr>\n",
       "      <th>17608</th>\n",
       "      <td>Statistical differences</td>\n",
       "      <td>1981</td>\n",
       "      <td>-8.579989e+07</td>\n",
       "    </tr>\n",
       "    <tr>\n",
       "      <th>17609</th>\n",
       "      <td>Statistical differences</td>\n",
       "      <td>1982</td>\n",
       "      <td>-1.104366e+08</td>\n",
       "    </tr>\n",
       "    <tr>\n",
       "      <th>17610</th>\n",
       "      <td>Statistical differences</td>\n",
       "      <td>1983</td>\n",
       "      <td>-3.578849e+08</td>\n",
       "    </tr>\n",
       "    <tr>\n",
       "      <th>17611</th>\n",
       "      <td>Statistical differences</td>\n",
       "      <td>1984</td>\n",
       "      <td>-2.415858e+08</td>\n",
       "    </tr>\n",
       "    <tr>\n",
       "      <th>17612</th>\n",
       "      <td>Statistical differences</td>\n",
       "      <td>1985</td>\n",
       "      <td>-3.607281e+08</td>\n",
       "    </tr>\n",
       "    <tr>\n",
       "      <th>17613</th>\n",
       "      <td>Statistical differences</td>\n",
       "      <td>1986</td>\n",
       "      <td>-4.802771e+07</td>\n",
       "    </tr>\n",
       "    <tr>\n",
       "      <th>17614</th>\n",
       "      <td>Statistical differences</td>\n",
       "      <td>1987</td>\n",
       "      <td>-2.723048e+08</td>\n",
       "    </tr>\n",
       "    <tr>\n",
       "      <th>17615</th>\n",
       "      <td>Statistical differences</td>\n",
       "      <td>1988</td>\n",
       "      <td>-3.152396e+08</td>\n",
       "    </tr>\n",
       "    <tr>\n",
       "      <th>17616</th>\n",
       "      <td>Statistical differences</td>\n",
       "      <td>1989</td>\n",
       "      <td>-1.878203e+08</td>\n",
       "    </tr>\n",
       "    <tr>\n",
       "      <th>17617</th>\n",
       "      <td>Statistical differences</td>\n",
       "      <td>1990</td>\n",
       "      <td>-5.814990e+08</td>\n",
       "    </tr>\n",
       "    <tr>\n",
       "      <th>17618</th>\n",
       "      <td>Statistical differences</td>\n",
       "      <td>1991</td>\n",
       "      <td>-3.117070e+08</td>\n",
       "    </tr>\n",
       "    <tr>\n",
       "      <th>17619</th>\n",
       "      <td>Statistical differences</td>\n",
       "      <td>1992</td>\n",
       "      <td>-3.206405e+08</td>\n",
       "    </tr>\n",
       "    <tr>\n",
       "      <th>17620</th>\n",
       "      <td>Statistical differences</td>\n",
       "      <td>1993</td>\n",
       "      <td>-6.039042e+08</td>\n",
       "    </tr>\n",
       "    <tr>\n",
       "      <th>17621</th>\n",
       "      <td>Statistical differences</td>\n",
       "      <td>1994</td>\n",
       "      <td>-3.829234e+08</td>\n",
       "    </tr>\n",
       "    <tr>\n",
       "      <th>17622</th>\n",
       "      <td>Statistical differences</td>\n",
       "      <td>1995</td>\n",
       "      <td>-4.152905e+08</td>\n",
       "    </tr>\n",
       "    <tr>\n",
       "      <th>17623</th>\n",
       "      <td>Statistical differences</td>\n",
       "      <td>1996</td>\n",
       "      <td>-6.014068e+08</td>\n",
       "    </tr>\n",
       "    <tr>\n",
       "      <th>17624</th>\n",
       "      <td>Statistical differences</td>\n",
       "      <td>1997</td>\n",
       "      <td>-3.352780e+08</td>\n",
       "    </tr>\n",
       "    <tr>\n",
       "      <th>17625</th>\n",
       "      <td>Statistical differences</td>\n",
       "      <td>1998</td>\n",
       "      <td>-1.976861e+08</td>\n",
       "    </tr>\n",
       "    <tr>\n",
       "      <th>17626</th>\n",
       "      <td>Statistical differences</td>\n",
       "      <td>1999</td>\n",
       "      <td>-5.657580e+08</td>\n",
       "    </tr>\n",
       "    <tr>\n",
       "      <th>17627</th>\n",
       "      <td>Statistical differences</td>\n",
       "      <td>2000</td>\n",
       "      <td>-6.255223e+08</td>\n",
       "    </tr>\n",
       "    <tr>\n",
       "      <th>17628</th>\n",
       "      <td>Statistical differences</td>\n",
       "      <td>2001</td>\n",
       "      <td>-2.711537e+08</td>\n",
       "    </tr>\n",
       "    <tr>\n",
       "      <th>17629</th>\n",
       "      <td>Statistical differences</td>\n",
       "      <td>2002</td>\n",
       "      <td>-4.706956e+08</td>\n",
       "    </tr>\n",
       "    <tr>\n",
       "      <th>17630</th>\n",
       "      <td>Statistical differences</td>\n",
       "      <td>2003</td>\n",
       "      <td>-3.640166e+08</td>\n",
       "    </tr>\n",
       "    <tr>\n",
       "      <th>17631</th>\n",
       "      <td>Statistical differences</td>\n",
       "      <td>2004</td>\n",
       "      <td>-3.255337e+08</td>\n",
       "    </tr>\n",
       "    <tr>\n",
       "      <th>17632</th>\n",
       "      <td>Statistical differences</td>\n",
       "      <td>2005</td>\n",
       "      <td>-2.123722e+08</td>\n",
       "    </tr>\n",
       "    <tr>\n",
       "      <th>17633</th>\n",
       "      <td>Statistical differences</td>\n",
       "      <td>2006</td>\n",
       "      <td>-1.652091e+08</td>\n",
       "    </tr>\n",
       "    <tr>\n",
       "      <th>17634</th>\n",
       "      <td>Statistical differences</td>\n",
       "      <td>2007</td>\n",
       "      <td>-4.886405e+08</td>\n",
       "    </tr>\n",
       "    <tr>\n",
       "      <th>17635</th>\n",
       "      <td>Statistical differences</td>\n",
       "      <td>2008</td>\n",
       "      <td>-2.048367e+08</td>\n",
       "    </tr>\n",
       "    <tr>\n",
       "      <th>17636</th>\n",
       "      <td>Statistical differences</td>\n",
       "      <td>2009</td>\n",
       "      <td>-1.036986e+08</td>\n",
       "    </tr>\n",
       "    <tr>\n",
       "      <th>17637</th>\n",
       "      <td>Statistical differences</td>\n",
       "      <td>2010</td>\n",
       "      <td>-1.720100e+08</td>\n",
       "    </tr>\n",
       "    <tr>\n",
       "      <th>17638</th>\n",
       "      <td>Statistical differences</td>\n",
       "      <td>2011</td>\n",
       "      <td>-6.031251e+07</td>\n",
       "    </tr>\n",
       "    <tr>\n",
       "      <th>17639</th>\n",
       "      <td>Statistical differences</td>\n",
       "      <td>2012</td>\n",
       "      <td>-1.774597e+06</td>\n",
       "    </tr>\n",
       "  </tbody>\n",
       "</table>\n",
       "</div>"
      ],
      "text/plain": [
       "                       Country  Year  Emission(tones)\n",
       "17598  Statistical differences  1971    -2.937795e+07\n",
       "17599  Statistical differences  1972    -1.327650e+08\n",
       "17600  Statistical differences  1973    -1.219746e+08\n",
       "17601  Statistical differences  1974    -1.784734e+07\n",
       "17602  Statistical differences  1975    -9.373611e+07\n",
       "17603  Statistical differences  1976    -1.300720e+07\n",
       "17605  Statistical differences  1978    -4.183775e+08\n",
       "17607  Statistical differences  1980    -9.108704e+06\n",
       "17608  Statistical differences  1981    -8.579989e+07\n",
       "17609  Statistical differences  1982    -1.104366e+08\n",
       "17610  Statistical differences  1983    -3.578849e+08\n",
       "17611  Statistical differences  1984    -2.415858e+08\n",
       "17612  Statistical differences  1985    -3.607281e+08\n",
       "17613  Statistical differences  1986    -4.802771e+07\n",
       "17614  Statistical differences  1987    -2.723048e+08\n",
       "17615  Statistical differences  1988    -3.152396e+08\n",
       "17616  Statistical differences  1989    -1.878203e+08\n",
       "17617  Statistical differences  1990    -5.814990e+08\n",
       "17618  Statistical differences  1991    -3.117070e+08\n",
       "17619  Statistical differences  1992    -3.206405e+08\n",
       "17620  Statistical differences  1993    -6.039042e+08\n",
       "17621  Statistical differences  1994    -3.829234e+08\n",
       "17622  Statistical differences  1995    -4.152905e+08\n",
       "17623  Statistical differences  1996    -6.014068e+08\n",
       "17624  Statistical differences  1997    -3.352780e+08\n",
       "17625  Statistical differences  1998    -1.976861e+08\n",
       "17626  Statistical differences  1999    -5.657580e+08\n",
       "17627  Statistical differences  2000    -6.255223e+08\n",
       "17628  Statistical differences  2001    -2.711537e+08\n",
       "17629  Statistical differences  2002    -4.706956e+08\n",
       "17630  Statistical differences  2003    -3.640166e+08\n",
       "17631  Statistical differences  2004    -3.255337e+08\n",
       "17632  Statistical differences  2005    -2.123722e+08\n",
       "17633  Statistical differences  2006    -1.652091e+08\n",
       "17634  Statistical differences  2007    -4.886405e+08\n",
       "17635  Statistical differences  2008    -2.048367e+08\n",
       "17636  Statistical differences  2009    -1.036986e+08\n",
       "17637  Statistical differences  2010    -1.720100e+08\n",
       "17638  Statistical differences  2011    -6.031251e+07\n",
       "17639  Statistical differences  2012    -1.774597e+06"
      ]
     },
     "execution_count": 33,
     "metadata": {},
     "output_type": "execute_result"
    }
   ],
   "source": [
    "df[df['Emission(tones)']<0]"
   ]
  },
  {
   "cell_type": "code",
   "execution_count": 35,
   "id": "dfe4ad8c",
   "metadata": {},
   "outputs": [],
   "source": [
    "df['Emission(tones)']=df['Emission(tones)'].where(df['Emission(tones)']>=0,0)"
   ]
  },
  {
   "cell_type": "code",
   "execution_count": 36,
   "id": "a8f1b730",
   "metadata": {},
   "outputs": [
    {
     "data": {
      "text/html": [
       "<div>\n",
       "<style scoped>\n",
       "    .dataframe tbody tr th:only-of-type {\n",
       "        vertical-align: middle;\n",
       "    }\n",
       "\n",
       "    .dataframe tbody tr th {\n",
       "        vertical-align: top;\n",
       "    }\n",
       "\n",
       "    .dataframe thead th {\n",
       "        text-align: right;\n",
       "    }\n",
       "</style>\n",
       "<table border=\"1\" class=\"dataframe\">\n",
       "  <thead>\n",
       "    <tr style=\"text-align: right;\">\n",
       "      <th></th>\n",
       "      <th>Country</th>\n",
       "      <th>Year</th>\n",
       "      <th>Emission(tones)</th>\n",
       "    </tr>\n",
       "  </thead>\n",
       "  <tbody>\n",
       "  </tbody>\n",
       "</table>\n",
       "</div>"
      ],
      "text/plain": [
       "Empty DataFrame\n",
       "Columns: [Country, Year, Emission(tones)]\n",
       "Index: []"
      ]
     },
     "execution_count": 36,
     "metadata": {},
     "output_type": "execute_result"
    }
   ],
   "source": [
    "df[df['Emission(tones)']<0]"
   ]
  },
  {
   "cell_type": "code",
   "execution_count": 37,
   "id": "d640d44e",
   "metadata": {},
   "outputs": [
    {
     "name": "stdout",
     "output_type": "stream",
     "text": [
      "0.0 Millions\n"
     ]
    }
   ],
   "source": [
    "print(round((df['Emission(tones)'].min())/1000000,2),\"Millions\")"
   ]
  },
  {
   "cell_type": "code",
   "execution_count": 43,
   "id": "aa8e24aa",
   "metadata": {},
   "outputs": [
    {
     "data": {
      "text/plain": [
       "Country\n",
       "World                       1.575244e+12\n",
       "United States               3.993783e+11\n",
       "EU-28                       3.528583e+11\n",
       "China                       2.001365e+11\n",
       "Asia and Pacific (other)    1.780573e+11\n",
       "                                ...     \n",
       "Saint Helena                3.463088e+05\n",
       "Niue                        2.715786e+05\n",
       "Tuvalu                      2.569226e+05\n",
       "Antarctic Fisheries         1.538880e+05\n",
       "Kyrgysztan                  0.000000e+00\n",
       "Name: Emission(tones), Length: 233, dtype: float64"
      ]
     },
     "execution_count": 43,
     "metadata": {},
     "output_type": "execute_result"
    }
   ],
   "source": [
    "df.groupby(['Country'])['Emission(tones)'].sum().sort_values(ascending=False)"
   ]
  },
  {
   "cell_type": "code",
   "execution_count": 57,
   "id": "1831e8df",
   "metadata": {},
   "outputs": [
    {
     "data": {
      "text/plain": [
       "Year\n",
       "2017    2.466765e+09\n",
       "2016    2.377448e+09\n",
       "2015    2.276407e+09\n",
       "2014    2.207534e+09\n",
       "2013    1.997879e+09\n",
       "2012    1.983759e+09\n",
       "2011    1.817172e+09\n",
       "2009    1.720121e+09\n",
       "2010    1.700027e+09\n",
       "2008    1.547991e+09\n",
       "2007    1.390253e+09\n",
       "2006    1.287149e+09\n",
       "2005    1.210146e+09\n",
       "2004    1.145545e+09\n",
       "2003    1.091873e+09\n",
       "2002    1.047596e+09\n",
       "2001    1.035641e+09\n",
       "2000    1.029638e+09\n",
       "Name: Emission(tones), dtype: float64"
      ]
     },
     "execution_count": 57,
     "metadata": {},
     "output_type": "execute_result"
    }
   ],
   "source": [
    "df[(df['Country']=='India') & (df['Year']>=2000)].groupby(df['Year'])['Emission(tones)'].sum().sort_values(ascending=False)"
   ]
  },
  {
   "cell_type": "code",
   "execution_count": 61,
   "id": "e7385220",
   "metadata": {},
   "outputs": [],
   "source": [
    "df.drop(df[(df['Country']=='World')].index,axis='rows',inplace=True)"
   ]
  },
  {
   "cell_type": "code",
   "execution_count": 62,
   "id": "535c04b0",
   "metadata": {},
   "outputs": [
    {
     "data": {
      "text/html": [
       "<div>\n",
       "<style scoped>\n",
       "    .dataframe tbody tr th:only-of-type {\n",
       "        vertical-align: middle;\n",
       "    }\n",
       "\n",
       "    .dataframe tbody tr th {\n",
       "        vertical-align: top;\n",
       "    }\n",
       "\n",
       "    .dataframe thead th {\n",
       "        text-align: right;\n",
       "    }\n",
       "</style>\n",
       "<table border=\"1\" class=\"dataframe\">\n",
       "  <thead>\n",
       "    <tr style=\"text-align: right;\">\n",
       "      <th></th>\n",
       "      <th>Country</th>\n",
       "      <th>Year</th>\n",
       "      <th>Emission(tones)</th>\n",
       "    </tr>\n",
       "  </thead>\n",
       "  <tbody>\n",
       "  </tbody>\n",
       "</table>\n",
       "</div>"
      ],
      "text/plain": [
       "Empty DataFrame\n",
       "Columns: [Country, Year, Emission(tones)]\n",
       "Index: []"
      ]
     },
     "execution_count": 62,
     "metadata": {},
     "output_type": "execute_result"
    }
   ],
   "source": [
    "df[(df['Country']=='World')]"
   ]
  },
  {
   "cell_type": "code",
   "execution_count": 74,
   "id": "c22cdb27",
   "metadata": {
    "scrolled": true
   },
   "outputs": [
    {
     "data": {
      "text/html": [
       "<div>\n",
       "<style scoped>\n",
       "    .dataframe tbody tr th:only-of-type {\n",
       "        vertical-align: middle;\n",
       "    }\n",
       "\n",
       "    .dataframe tbody tr th {\n",
       "        vertical-align: top;\n",
       "    }\n",
       "\n",
       "    .dataframe thead th {\n",
       "        text-align: right;\n",
       "    }\n",
       "</style>\n",
       "<table border=\"1\" class=\"dataframe\">\n",
       "  <thead>\n",
       "    <tr style=\"text-align: right;\">\n",
       "      <th></th>\n",
       "      <th>Country</th>\n",
       "      <th>Emission(tones)</th>\n",
       "    </tr>\n",
       "  </thead>\n",
       "  <tbody>\n",
       "    <tr>\n",
       "      <th>0</th>\n",
       "      <td>United States</td>\n",
       "      <td>3.993783e+11</td>\n",
       "    </tr>\n",
       "    <tr>\n",
       "      <th>1</th>\n",
       "      <td>EU-28</td>\n",
       "      <td>3.528583e+11</td>\n",
       "    </tr>\n",
       "    <tr>\n",
       "      <th>2</th>\n",
       "      <td>China</td>\n",
       "      <td>2.001365e+11</td>\n",
       "    </tr>\n",
       "    <tr>\n",
       "      <th>3</th>\n",
       "      <td>Asia and Pacific (other)</td>\n",
       "      <td>1.780573e+11</td>\n",
       "    </tr>\n",
       "    <tr>\n",
       "      <th>4</th>\n",
       "      <td>Europe (other)</td>\n",
       "      <td>1.575402e+11</td>\n",
       "    </tr>\n",
       "  </tbody>\n",
       "</table>\n",
       "</div>"
      ],
      "text/plain": [
       "                    Country  Emission(tones)\n",
       "0             United States     3.993783e+11\n",
       "1                     EU-28     3.528583e+11\n",
       "2                     China     2.001365e+11\n",
       "3  Asia and Pacific (other)     1.780573e+11\n",
       "4            Europe (other)     1.575402e+11"
      ]
     },
     "execution_count": 74,
     "metadata": {},
     "output_type": "execute_result"
    }
   ],
   "source": [
    "df1=pd.DataFrame(df.groupby(['Country'])['Emission(tones)'].sum().sort_values(ascending=False)[:5])\n",
    "df1.reset_index(inplace=True)\n",
    "df1"
   ]
  },
  {
   "cell_type": "code",
   "execution_count": 78,
   "id": "9f3f6838",
   "metadata": {},
   "outputs": [
    {
     "data": {
      "image/png": "[encoded data removed]",
      "text/plain": [
       "<Figure size 1300x600 with 1 Axes>"
      ]
     },
     "metadata": {},
     "output_type": "display_data"
    }
   ],
   "source": [
    "plt.figure(figsize=(13,6))\n",
    "sns.barplot(x='Country',y='Emission(tones)',data=df1)\n",
    "plt.title('Top 5 Countries in co2 emission from 1751 to 2017',fontweight='bold',fontsize=14)\n",
    "plt.show()"
   ]
  },
  {
   "cell_type": "code",
   "execution_count": null,
   "id": "9489100e",
   "metadata": {},
   "outputs": [],
   "source": []
  }
 ],
 "metadata": {
  "kernelspec": {
   "display_name": "Python 3 (ipykernel)",
   "language": "python",
   "name": "python3"
  },
  "language_info": {
   "codemirror_mode": {
    "name": "ipython",
    "version": 3
   },
   "file_extension": ".py",
   "mimetype": "text/x-python",
   "name": "python",
   "nbconvert_exporter": "python",
   "pygments_lexer": "ipython3",
   "version": "3.11.4"
  }
 },
 "nbformat": 4,
 "nbformat_minor": 5
}
